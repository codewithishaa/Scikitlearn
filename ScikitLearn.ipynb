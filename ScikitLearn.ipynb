{
 "cells": [
  {
   "cell_type": "markdown",
   "id": "a722a51a",
   "metadata": {},
   "source": [
    "## Scikit-Learn by Isha Borgaonkar "
   ]
  },
  {
   "cell_type": "code",
   "execution_count": 1,
   "id": "827d645c",
   "metadata": {},
   "outputs": [
    {
     "name": "stdout",
     "output_type": "stream",
     "text": [
      "scikit-learn: 1.5.2\n",
      "pandas:      2.3.0\n"
     ]
    }
   ],
   "source": [
    "# Verify versions\n",
    "import pkg_resources\n",
    "print(\"scikit-learn:\", pkg_resources.get_distribution(\"scikit-learn\").version)\n",
    "print(\"pandas:     \", pkg_resources.get_distribution(\"pandas\").version)\n"
   ]
  },
  {
   "cell_type": "markdown",
   "id": "ae389822",
   "metadata": {},
   "source": [
    "## Data Loading & Preprocessing"
   ]
  },
  {
   "cell_type": "code",
   "execution_count": 3,
   "id": "270a2767",
   "metadata": {},
   "outputs": [],
   "source": [
    "import numpy as np\n",
    "from sklearn import datasets\n",
    "from sklearn.model_selection import train_test_split\n",
    "from sklearn.preprocessing import StandardScaler\n",
    "\n",
    "# 1) Load the Iris dataset\n",
    "iris = datasets.load_iris()\n",
    "X, y = iris.data, iris.target  # X: feature matrix (150×4), y: labels (150,)\n",
    "\n",
    "# 2) Split into train/test\n",
    "X_train, X_test, y_train, y_test = train_test_split(\n",
    "    X, y, test_size=0.2, random_state=42  # 20% test, reproducible\n",
    ")\n",
    "\n",
    "# 3) Scale features to zero mean, unit variance\n",
    "scaler = StandardScaler()\n",
    "X_train_scaled = scaler.fit_transform(X_train)  # Learn µ/σ on train\n",
    "X_test_scaled  = scaler.transform(X_test)       # Apply same transform to test\n"
   ]
  },
  {
   "cell_type": "markdown",
   "id": "b8876ab9",
   "metadata": {},
   "source": [
    "## Classification Example"
   ]
  },
  {
   "cell_type": "code",
   "execution_count": 4,
   "id": "45e63828",
   "metadata": {},
   "outputs": [
    {
     "name": "stdout",
     "output_type": "stream",
     "text": [
      "Test Accuracy: 1.0000\n",
      "              precision    recall  f1-score   support\n",
      "\n",
      "      setosa       1.00      1.00      1.00        10\n",
      "  versicolor       1.00      1.00      1.00         9\n",
      "   virginica       1.00      1.00      1.00        11\n",
      "\n",
      "    accuracy                           1.00        30\n",
      "   macro avg       1.00      1.00      1.00        30\n",
      "weighted avg       1.00      1.00      1.00        30\n",
      "\n"
     ]
    }
   ],
   "source": [
    "from sklearn.linear_model import LogisticRegression\n",
    "from sklearn.metrics import accuracy_score, classification_report\n",
    "\n",
    "# 1) Initialize a logistic regression classifier\n",
    "clf = LogisticRegression(random_state=42)\n",
    "\n",
    "# 2) Train on scaled data\n",
    "clf.fit(X_train_scaled, y_train)\n",
    "\n",
    "# 3) Predict on test set\n",
    "y_pred = clf.predict(X_test_scaled)\n",
    "\n",
    "# 4) Evaluate accuracy\n",
    "acc = accuracy_score(y_test, y_pred)\n",
    "print(f\"Test Accuracy: {acc:.4f}\")\n",
    "\n",
    "# 5) Detailed metrics\n",
    "print(classification_report(y_test, y_pred, target_names=iris.target_names))\n"
   ]
  },
  {
   "cell_type": "markdown",
   "id": "d26d99b8",
   "metadata": {},
   "source": [
    "## Regression Example"
   ]
  },
  {
   "cell_type": "code",
   "execution_count": 7,
   "id": "0fede772",
   "metadata": {},
   "outputs": [
    {
     "name": "stdout",
     "output_type": "stream",
     "text": [
      "Test RMSE: 0.73\n"
     ]
    }
   ],
   "source": [
    "from sklearn.datasets import fetch_california_housing   # Replacement for the removed load_boston\n",
    "from sklearn.linear_model import LinearRegression\n",
    "from sklearn.metrics import mean_squared_error\n",
    "from sklearn.model_selection import train_test_split\n",
    "from sklearn.preprocessing import StandardScaler\n",
    "import numpy as np\n",
    "\n",
    "# 1) Load the California Housing dataset\n",
    "cal_housing = fetch_california_housing()\n",
    "Xr, yr = cal_housing.data, cal_housing.target  # Xr: features, yr: median house values\n",
    "\n",
    "# 2) Split into train/test sets\n",
    "Xr_train, Xr_test, yr_train, yr_test = train_test_split(\n",
    "    Xr, yr,\n",
    "    test_size=0.2,\n",
    "    random_state=0\n",
    ")\n",
    "\n",
    "# 3) Standardize features to zero mean and unit variance\n",
    "scaler_r = StandardScaler()\n",
    "Xr_train_s = scaler_r.fit_transform(Xr_train)  # Learn scaling on train\n",
    "Xr_test_s  = scaler_r.transform(Xr_test)       # Apply same scaling to test\n",
    "\n",
    "# 4) Train a linear regression model\n",
    "reg = LinearRegression()\n",
    "reg.fit(Xr_train_s, yr_train)\n",
    "\n",
    "# 5) Predict on test set and compute RMSE\n",
    "yr_pred = reg.predict(Xr_test_s)\n",
    "rmse = np.sqrt(mean_squared_error(yr_test, yr_pred))\n",
    "print(f\"Test RMSE: {rmse:.2f}\")\n"
   ]
  },
  {
   "cell_type": "markdown",
   "id": "59f5aaf5",
   "metadata": {},
   "source": [
    " ## Clustering & Outlier Detection"
   ]
  },
  {
   "cell_type": "code",
   "execution_count": 8,
   "id": "142f1eb2",
   "metadata": {},
   "outputs": [
    {
     "name": "stdout",
     "output_type": "stream",
     "text": [
      "Adjusted Rand Index: 0.5593\n",
      "Number of detected outliers: 18\n"
     ]
    }
   ],
   "source": [
    "from sklearn.cluster import KMeans\n",
    "from sklearn.metrics import adjusted_rand_score\n",
    "from sklearn.ensemble import IsolationForest\n",
    "\n",
    "# -- KMeans clustering on Digits dataset --\n",
    "digits = datasets.load_digits()\n",
    "Xd = StandardScaler().fit_transform(digits.data)\n",
    "\n",
    "kmeans = KMeans(n_clusters=10, random_state=0)\n",
    "labels = kmeans.fit_predict(Xd)\n",
    "ari = adjusted_rand_score(digits.target, labels)\n",
    "print(f\"Adjusted Rand Index: {ari:.4f}\")\n",
    "\n",
    "# -- IsolationForest for outlier detection --\n",
    "iso = IsolationForest(contamination=0.01, random_state=42)\n",
    "outliers = iso.fit_predict(Xd)\n",
    "print(\"Number of detected outliers:\", (outliers == -1).sum())\n"
   ]
  },
  {
   "cell_type": "markdown",
   "id": "a1bd0825",
   "metadata": {},
   "source": [
    "## Pipelines & Hyperparameter Tuning"
   ]
  },
  {
   "cell_type": "code",
   "execution_count": 9,
   "id": "c86860af",
   "metadata": {},
   "outputs": [
    {
     "name": "stdout",
     "output_type": "stream",
     "text": [
      "Best params: {'rf__max_depth': None, 'rf__n_estimators': 50}\n",
      "Best CV accuracy: 0.9666666666666668\n"
     ]
    }
   ],
   "source": [
    "from sklearn.pipeline import Pipeline\n",
    "from sklearn.ensemble import RandomForestClassifier\n",
    "from sklearn.model_selection import GridSearchCV\n",
    "\n",
    "# 1) Build a pipeline: scaler + classifier\n",
    "pipe = Pipeline([\n",
    "    ('scaler', StandardScaler()),\n",
    "    ('rf', RandomForestClassifier(random_state=1))\n",
    "])\n",
    "\n",
    "# 2) Define parameter grid\n",
    "param_grid = {\n",
    "    'rf__n_estimators': [50, 100],\n",
    "    'rf__max_depth': [None, 5, 10]\n",
    "}\n",
    "\n",
    "# 3) Grid search with 5-fold CV\n",
    "grid = GridSearchCV(\n",
    "    pipe,\n",
    "    param_grid,\n",
    "    cv=5,\n",
    "    scoring='accuracy',\n",
    "    n_jobs=-1\n",
    ")\n",
    "grid.fit(X, y)\n",
    "\n",
    "print(\"Best params:\", grid.best_params_)\n",
    "print(\"Best CV accuracy:\", grid.best_score_)\n"
   ]
  },
  {
   "cell_type": "markdown",
   "id": "32ec25af",
   "metadata": {},
   "source": [
    "## Cross-Validation & Custom Scoring"
   ]
  },
  {
   "cell_type": "code",
   "execution_count": 13,
   "id": "64a0bfab",
   "metadata": {},
   "outputs": [
    {
     "name": "stdout",
     "output_type": "stream",
     "text": [
      "F1 scores per fold: [0.96658312 1.         0.93265993 0.89974937 1.        ]\n",
      "Mean F1 score:        0.9598\n"
     ]
    }
   ],
   "source": [
    "from sklearn.pipeline import make_pipeline\n",
    "from sklearn.linear_model import LogisticRegression\n",
    "from sklearn.model_selection import cross_val_score\n",
    "\n",
    "# Build a pipeline that scales the data then fits LogisticRegression\n",
    "pipe = make_pipeline(\n",
    "    StandardScaler(),                         # Scale features to zero mean, unit variance\n",
    "    LogisticRegression(\n",
    "        solver='lbfgs', \n",
    "        max_iter=1000,                        # Increase iterations for convergence\n",
    "        random_state=42\n",
    "    )\n",
    ")\n",
    "\n",
    "# Perform 5-fold CV with macro F1 score\n",
    "f1_scores = cross_val_score(\n",
    "    pipe,                                     # Pipeline instead of bare estimator\n",
    "    X, y,\n",
    "    cv=5,\n",
    "    scoring='f1_macro',\n",
    "    n_jobs=-1                                 # Parallelize across CPU cores\n",
    ")\n",
    "\n",
    "print(\"F1 scores per fold:\", f1_scores)\n",
    "print(\"Mean F1 score:       \", f1_scores.mean().round(4))\n"
   ]
  },
  {
   "cell_type": "markdown",
   "id": "a3ed4d77",
   "metadata": {},
   "source": [
    "## Custom Transformer"
   ]
  },
  {
   "cell_type": "code",
   "execution_count": 16,
   "id": "222f68e6",
   "metadata": {},
   "outputs": [],
   "source": [
    "from sklearn.base import TransformerMixin, BaseEstimator\n",
    "from sklearn.preprocessing import StandardScaler\n",
    "from sklearn.svm import SVC\n",
    "from sklearn.pipeline import Pipeline\n",
    "import numpy as np\n",
    "\n",
    "# Custom transformer that applies log1p to features\n",
    "class LogTransformer(BaseEstimator, TransformerMixin):\n",
    "    def fit(self, X, y=None):\n",
    "        return self\n",
    "    def transform(self, X):\n",
    "        return np.log1p(X)\n",
    "\n",
    "# Build a pipeline with:\n",
    "# 1) LogTransformer to stabilize variance\n",
    "# 2) StandardScaler to zero‐mean/unit‐variance features\n",
    "# 3) SVC classifier\n",
    "pipe2 = Pipeline([\n",
    "    ('log',    LogTransformer()),    # Apply log(1 + x)\n",
    "    ('scaler', StandardScaler()),    # Scale features\n",
    "    ('svc',    SVC(kernel='rbf',     # Radial basis function kernel\n",
    "                     C=1.0,          # Regularization parameter\n",
    "                     gamma='scale',  # Kernel coefficient\n",
    "                     random_state=42\n",
    "    ))\n",
    "])\n",
    "\n",
    "# Now you can fit and predict:\n",
    "pipe2.fit(X_train, y_train)\n",
    "y_pred = pipe2.predict(X_test)\n"
   ]
  },
  {
   "cell_type": "markdown",
   "id": "eed48090",
   "metadata": {},
   "source": [
    "## Feature Selection"
   ]
  },
  {
   "cell_type": "code",
   "execution_count": 20,
   "id": "e338113d",
   "metadata": {},
   "outputs": [
    {
     "name": "stdout",
     "output_type": "stream",
     "text": [
      "Original feature shape: (150, 4)\n",
      "Selected feature shape: (150, 2)\n"
     ]
    }
   ],
   "source": [
    "from sklearn.feature_selection import SelectKBest, f_classif\n",
    "\n",
    "# Iris has 4 features, so pick k=2 instead of 5\n",
    "selector = SelectKBest(score_func=f_classif, k=2)  \n",
    "X_selected = selector.fit_transform(X, y)\n",
    "\n",
    "print(\"Original feature shape:\", X.shape)\n",
    "print(\"Selected feature shape:\", X_selected.shape)\n"
   ]
  },
  {
   "cell_type": "markdown",
   "id": "383aba6b",
   "metadata": {},
   "source": [
    "## Handling Imbalanced Data"
   ]
  },
  {
   "cell_type": "code",
   "execution_count": 21,
   "id": "4a25ac38",
   "metadata": {},
   "outputs": [],
   "source": [
    "from sklearn.utils import resample\n",
    "\n",
    "# Upsample minority class in train set\n",
    "X_min = X_train[y_train == 1]\n",
    "y_min = y_train[y_train == 1]\n",
    "X_maj = X_train[y_train == 0]\n",
    "y_maj = y_train[y_train == 0]\n",
    "\n",
    "X_min_up, y_min_up = resample(\n",
    "    X_min, y_min,\n",
    "    replace=True,\n",
    "    n_samples=len(y_maj),\n",
    "    random_state=42\n",
    ")\n",
    "\n",
    "X_bal = np.vstack([X_maj, X_min_up])\n",
    "y_bal = np.hstack([y_maj, y_min_up])\n"
   ]
  },
  {
   "cell_type": "markdown",
   "id": "f23fba9d",
   "metadata": {},
   "source": [
    "## Ensemble Methods"
   ]
  },
  {
   "cell_type": "markdown",
   "id": "10de591c",
   "metadata": {},
   "source": [
    "## Bagging "
   ]
  },
  {
   "cell_type": "code",
   "execution_count": 25,
   "id": "84745472",
   "metadata": {},
   "outputs": [
    {
     "name": "stdout",
     "output_type": "stream",
     "text": [
      "Bagging Accuracy: 1.0\n"
     ]
    }
   ],
   "source": [
    "from sklearn.ensemble import BaggingClassifier\n",
    "from sklearn.tree import DecisionTreeClassifier\n",
    "from sklearn.datasets import load_iris\n",
    "from sklearn.model_selection import train_test_split\n",
    "from sklearn.metrics import accuracy_score\n",
    "\n",
    "# Load data and split\n",
    "X, y = load_iris(return_X_y=True)\n",
    "X_train, X_test, y_train, y_test = train_test_split(X, y, random_state=42)\n",
    "\n",
    "# Initialize BaggingClassifier with DecisionTreeClassifier as the base learner\n",
    "bag = BaggingClassifier(\n",
    "    estimator=DecisionTreeClassifier(),  # Note: use `estimator=` instead of `base_estimator=`\n",
    "    n_estimators=10,                     # Number of trees in the ensemble\n",
    "    random_state=42\n",
    ")\n",
    "\n",
    "# Train and evaluate\n",
    "bag.fit(X_train, y_train)\n",
    "y_pred = bag.predict(X_test)\n",
    "print(\"Bagging Accuracy:\", accuracy_score(y_test, y_pred))\n"
   ]
  },
  {
   "cell_type": "code",
   "execution_count": 28,
   "id": "7ad55b52",
   "metadata": {},
   "outputs": [
    {
     "name": "stderr",
     "output_type": "stream",
     "text": [
      "C:\\Users\\ISHA\\anaconda3\\lib\\site-packages\\sklearn\\ensemble\\_weight_boosting.py:527: FutureWarning: The SAMME.R algorithm (the default) is deprecated and will be removed in 1.6. Use the SAMME algorithm to circumvent this warning.\n",
      "  warnings.warn(\n"
     ]
    },
    {
     "name": "stdout",
     "output_type": "stream",
     "text": [
      "AdaBoost Accuracy: 1.0\n",
      "Stacking Accuracy: 1.0\n",
      "Loaded AdaBoost Accuracy: 1.0\n",
      "Loaded Stacking Accuracy: 1.0\n"
     ]
    }
   ],
   "source": [
    "from sklearn.ensemble import AdaBoostClassifier, StackingClassifier\n",
    "from sklearn.tree import DecisionTreeClassifier\n",
    "from sklearn.linear_model import LogisticRegression\n",
    "from sklearn.datasets import load_iris\n",
    "from sklearn.model_selection import train_test_split\n",
    "from sklearn.metrics import accuracy_score\n",
    "import joblib\n",
    "\n",
    "# 1) Load data and split\n",
    "X, y = load_iris(return_X_y=True)\n",
    "X_train, X_test, y_train, y_test = train_test_split(X, y, random_state=42)\n",
    "\n",
    "# 2) Boosting with AdaBoost\n",
    "# - estimator=DecisionTreeClassifier() as weak learner\n",
    "# - n_estimators: number of boosting rounds\n",
    "boost = AdaBoostClassifier(\n",
    "    estimator=DecisionTreeClassifier(max_depth=1),  \n",
    "    n_estimators=50,                     \n",
    "    learning_rate=1.0,\n",
    "    random_state=42\n",
    ")\n",
    "boost.fit(X_train, y_train)\n",
    "y_pred_boost = boost.predict(X_test)\n",
    "print(\"AdaBoost Accuracy:\", accuracy_score(y_test, y_pred_boost))\n",
    "\n",
    "# 3) Stacking Ensemble\n",
    "# - estimators: list of (name, estimator) tuples\n",
    "# - final_estimator: meta-learner to combine base predictions\n",
    "stack = StackingClassifier(\n",
    "    estimators=[\n",
    "        ('lr', LogisticRegression(max_iter=500, random_state=42)),\n",
    "        ('dt', DecisionTreeClassifier(max_depth=5, random_state=42))\n",
    "    ],\n",
    "    final_estimator=LogisticRegression(),\n",
    "    cv=5,\n",
    "    n_jobs=-1,\n",
    "    passthrough=False   # If True, also pass original features to final estimator\n",
    ")\n",
    "stack.fit(X_train, y_train)\n",
    "y_pred_stack = stack.predict(X_test)\n",
    "print(\"Stacking Accuracy:\", accuracy_score(y_test, y_pred_stack))\n",
    "\n",
    "# 4) Model Persistence with joblib\n",
    "# Save both models and the train/test split for later use\n",
    "joblib.dump({\n",
    "    'scaler': None,            # include scaler if you used one\n",
    "    'boost_model': boost,\n",
    "    'stack_model': stack\n",
    "}, 'ensemble_models.pkl')\n",
    "\n",
    "# Later, to load:\n",
    "saved = joblib.load('ensemble_models.pkl')\n",
    "loaded_boost = saved['boost_model']\n",
    "loaded_stack = saved['stack_model']\n",
    "\n",
    "# Verify loaded models\n",
    "print(\"Loaded AdaBoost Accuracy:\", accuracy_score(y_test, loaded_boost.predict(X_test)))\n",
    "print(\"Loaded Stacking Accuracy:\", accuracy_score(y_test, loaded_stack.predict(X_test)))\n"
   ]
  },
  {
   "cell_type": "code",
   "execution_count": 30,
   "id": "a02bb466",
   "metadata": {},
   "outputs": [
    {
     "data": {
      "image/png": "[encoded data removed]",
      "text/plain": [
       "<Figure size 640x480 with 2 Axes>"
      ]
     },
     "metadata": {},
     "output_type": "display_data"
    }
   ],
   "source": [
    "import matplotlib.pyplot as plt\n",
    "import numpy as np\n",
    "from sklearn.metrics import confusion_matrix, ConfusionMatrixDisplay, roc_curve, auc\n",
    "\n",
    "# Assume you have test labels y_test and predictions y_pred_stack from the stacking model\n",
    "\n",
    "# 1) Confusion Matrix for the Stacking Classifier\n",
    "cm = confusion_matrix(y_test, y_pred_stack)\n",
    "disp = ConfusionMatrixDisplay(confusion_matrix=cm, display_labels=iris.target_names)\n",
    "disp.plot(cmap='Blues', xticks_rotation='vertical')\n",
    "plt.title(\"Confusion Matrix: Stacking Classifier\")\n",
    "plt.show()\n",
    "\n"
   ]
  },
  {
   "cell_type": "code",
   "execution_count": 31,
   "id": "d234f83f",
   "metadata": {},
   "outputs": [
    {
     "data": {
      "image/png": "[encoded data removed]",
      "text/plain": [
       "<Figure size 640x480 with 1 Axes>"
      ]
     },
     "metadata": {},
     "output_type": "display_data"
    }
   ],
   "source": [
    "# 2) ROC Curves for a One-vs-Rest multiclass setup\n",
    "# Binarize the output\n",
    "from sklearn.preprocessing import label_binarize\n",
    "n_classes = len(np.unique(y_test))\n",
    "y_test_bin = label_binarize(y_test, classes=range(n_classes))\n",
    "y_score = stack.predict_proba(X_test)\n",
    "\n",
    "# Compute ROC curve and AUC for each class\n",
    "fpr = dict(); tpr = dict(); roc_auc = dict()\n",
    "for i in range(n_classes):\n",
    "    fpr[i], tpr[i], _ = roc_curve(y_test_bin[:, i], y_score[:, i])\n",
    "    roc_auc[i] = auc(fpr[i], tpr[i])\n",
    "\n",
    "# Plot all ROC curves\n",
    "plt.figure()\n",
    "for i in range(n_classes):\n",
    "    plt.plot(fpr[i], tpr[i], label=f\"Class {iris.target_names[i]} (AUC = {roc_auc[i]:.2f})\")\n",
    "plt.plot([0, 1], [0, 1], 'k--', label=\"Chance\")\n",
    "plt.title(\"ROC Curves: Stacking Classifier\")\n",
    "plt.xlabel(\"False Positive Rate\")\n",
    "plt.ylabel(\"True Positive Rate\")\n",
    "plt.legend(loc=\"lower right\")\n",
    "plt.grid(True)\n",
    "plt.show()\n"
   ]
  },
  {
   "cell_type": "code",
   "execution_count": 32,
   "id": "f6a81ae5",
   "metadata": {},
   "outputs": [
    {
     "data": {
      "image/png": "[encoded data removed]",
      "text/plain": [
       "<Figure size 640x480 with 1 Axes>"
      ]
     },
     "metadata": {},
     "output_type": "display_data"
    },
    {
     "data": {
      "text/plain": [
       "7"
      ]
     },
     "execution_count": 32,
     "metadata": {},
     "output_type": "execute_result"
    }
   ],
   "source": [
    "# 3) Feature Importances from the AdaBoost model\n",
    "importances = boost.feature_importances_\n",
    "indices = np.argsort(importances)[::-1]\n",
    "\n",
    "plt.figure()\n",
    "plt.bar(range(X.shape[1]), importances[indices])\n",
    "plt.xticks(range(X.shape[1]), indices, rotation='vertical')\n",
    "plt.title(\"Feature Importances: AdaBoost\")\n",
    "plt.xlabel(\"Feature index\")\n",
    "plt.ylabel(\"Importance\")\n",
    "plt.tight_layout()\n",
    "plt.show()\n",
    "7"
   ]
  },
  {
   "cell_type": "code",
   "execution_count": null,
   "id": "1edf38f5",
   "metadata": {},
   "outputs": [],
   "source": []
  }
 ],
 "metadata": {
  "kernelspec": {
   "display_name": "Python 3 (ipykernel)",
   "language": "python",
   "name": "python3"
  },
  "language_info": {
   "codemirror_mode": {
    "name": "ipython",
    "version": 3
   },
   "file_extension": ".py",
   "mimetype": "text/x-python",
   "name": "python",
   "nbconvert_exporter": "python",
   "pygments_lexer": "ipython3",
   "version": "3.9.13"
  }
 },
 "nbformat": 4,
 "nbformat_minor": 5
}
